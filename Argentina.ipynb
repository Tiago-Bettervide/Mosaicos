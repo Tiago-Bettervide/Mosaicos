{
  "nbformat": 4,
  "nbformat_minor": 0,
  "metadata": {
    "colab": {
      "provenance": []
    },
    "kernelspec": {
      "name": "python3",
      "display_name": "Python 3"
    },
    "language_info": {
      "name": "python"
    }
  },
  "cells": [
    {
      "cell_type": "code",
      "source": [
        "import ee\n",
        "import geemap\n",
        "import matplotlib.pyplot as plt\n",
        "from matplotlib.backends.backend_pdf import PdfPages\n",
        "import urllib\n",
        "from PIL import Image\n",
        "import numpy as np\n",
        "from google.colab import drive\n",
        "import geopandas as gpd"
      ],
      "metadata": {
        "id": "DOqIoKNoYHES",
        "colab": {
          "base_uri": "https://localhost:8080/",
          "height": 17
        },
        "outputId": "94caa570-5429-4f4d-d570-ec5df8b69c21"
      },
      "execution_count": 8,
      "outputs": [
        {
          "output_type": "display_data",
          "data": {
            "text/plain": [
              "<IPython.core.display.HTML object>"
            ],
            "text/html": [
              "\n",
              "            <style>\n",
              "                .geemap-dark {\n",
              "                    --jp-widgets-color: white;\n",
              "                    --jp-widgets-label-color: white;\n",
              "                    --jp-ui-font-color1: white;\n",
              "                    --jp-layout-color2: #454545;\n",
              "                    background-color: #383838;\n",
              "                }\n",
              "\n",
              "                .geemap-dark .jupyter-button {\n",
              "                    --jp-layout-color3: #383838;\n",
              "                }\n",
              "\n",
              "                .geemap-colab {\n",
              "                    background-color: var(--colab-primary-surface-color, white);\n",
              "                }\n",
              "\n",
              "                .geemap-colab .jupyter-button {\n",
              "                    --jp-layout-color3: var(--colab-primary-surface-color, white);\n",
              "                }\n",
              "            </style>\n",
              "            "
            ]
          },
          "metadata": {}
        }
      ]
    },
    {
      "cell_type": "code",
      "source": [
        "ee.Authenticate()\n",
        "ee.Initialize(project='ee-tiagobettervide')"
      ],
      "metadata": {
        "colab": {
          "base_uri": "https://localhost:8080/",
          "height": 17
        },
        "id": "8ay0mF4jYK9T",
        "outputId": "cacf3886-6a7f-459d-de4c-179291c0a3f5"
      },
      "execution_count": 9,
      "outputs": [
        {
          "output_type": "display_data",
          "data": {
            "text/plain": [
              "<IPython.core.display.HTML object>"
            ],
            "text/html": [
              "\n",
              "            <style>\n",
              "                .geemap-dark {\n",
              "                    --jp-widgets-color: white;\n",
              "                    --jp-widgets-label-color: white;\n",
              "                    --jp-ui-font-color1: white;\n",
              "                    --jp-layout-color2: #454545;\n",
              "                    background-color: #383838;\n",
              "                }\n",
              "\n",
              "                .geemap-dark .jupyter-button {\n",
              "                    --jp-layout-color3: #383838;\n",
              "                }\n",
              "\n",
              "                .geemap-colab {\n",
              "                    background-color: var(--colab-primary-surface-color, white);\n",
              "                }\n",
              "\n",
              "                .geemap-colab .jupyter-button {\n",
              "                    --jp-layout-color3: var(--colab-primary-surface-color, white);\n",
              "                }\n",
              "            </style>\n",
              "            "
            ]
          },
          "metadata": {}
        }
      ]
    },
    {
      "cell_type": "code",
      "execution_count": null,
      "metadata": {
        "colab": {
          "base_uri": "https://localhost:8080/",
          "height": 54
        },
        "id": "HJ9ucnNtYEmk",
        "outputId": "c6c0698e-9532-4ca0-a5ca-a2457c4deed2"
      },
      "outputs": [
        {
          "output_type": "display_data",
          "data": {
            "text/plain": [
              "<IPython.core.display.HTML object>"
            ],
            "text/html": [
              "\n",
              "            <style>\n",
              "                .geemap-dark {\n",
              "                    --jp-widgets-color: white;\n",
              "                    --jp-widgets-label-color: white;\n",
              "                    --jp-ui-font-color1: white;\n",
              "                    --jp-layout-color2: #454545;\n",
              "                    background-color: #383838;\n",
              "                }\n",
              "\n",
              "                .geemap-dark .jupyter-button {\n",
              "                    --jp-layout-color3: #383838;\n",
              "                }\n",
              "\n",
              "                .geemap-colab {\n",
              "                    background-color: var(--colab-primary-surface-color, white);\n",
              "                }\n",
              "\n",
              "                .geemap-colab .jupyter-button {\n",
              "                    --jp-layout-color3: var(--colab-primary-surface-color, white);\n",
              "                }\n",
              "            </style>\n",
              "            "
            ]
          },
          "metadata": {}
        },
        {
          "output_type": "stream",
          "name": "stdout",
          "text": [
            "Nenhuma imagem disponível para o ano 1991.\n",
            "PDF criado com sucesso: NDVI_Anual_T1_T2_1985_1997.pdf\n"
          ]
        }
      ],
      "source": [
        "\n",
        "ee.Initialize()\n",
        "\n",
        "AOI = ee.FeatureCollection('users/bagnato/MBP/MB_Patagonia_Contorno')\n",
        "\n",
        "wrs2_descending = ee.FeatureCollection('projects/ee-elf-cloud/assets/WRS2_descending_0')\n",
        "\n",
        "wrs2_AOI = wrs2_descending.filterBounds(AOI)\n",
        "\n",
        "def addNDVI(image):\n",
        "    ndvi = image.normalizedDifference(['B4', 'B3']).rename('NDVI')\n",
        "    return image.addBands(ndvi)\n",
        "\n",
        "imgColT1 = ee.ImageCollection('LANDSAT/LT05/C02/T1').filterBounds(AOI).map(addNDVI)\n",
        "imgColT2 = ee.ImageCollection('LANDSAT/LT05/C02/T2').filterBounds(AOI).map(addNDVI)\n",
        "\n",
        "ndvi_palette = [\n",
        "    'FFFFFF', 'CE7E45', 'DF923D', 'F1B555', 'FCD163', '99B718',\n",
        "    '74A901', '66A000', '529400', '3E8601', '207401', '056201',\n",
        "    '004C00', '023B01', '012E01', '011D01', '011301'\n",
        "]\n",
        "\n",
        "\n",
        "pdf_filename = 'Argentina_NDVI_PATH_ROW_1985_1997.pdf'\n",
        "\n",
        "\n",
        "south_america_aoi = AOI.geometry().bounds().getInfo()['coordinates']\n",
        "\n",
        "\n",
        "empty = ee.Image().byte()\n",
        "outline = empty.paint(featureCollection=wrs2_AOI, color=1, width=2)\n",
        "\n",
        "def add_outline_to_mosaic(mosaic):\n",
        "    return mosaic.blend(outline)\n",
        "\n",
        "\n",
        "with PdfPages(pdf_filename) as pdf:\n",
        "    for year in range(1985, 1998):\n",
        "        start_date = f'{year}-01-01'\n",
        "        end_date = f'{year}-12-31'\n",
        "\n",
        "        imgColT1_year = imgColT1.filterDate(start_date, end_date)\n",
        "        imgColT2_year = imgColT2.filterDate(start_date, end_date)\n",
        "\n",
        "        if imgColT1_year.size().getInfo() > 0 and imgColT2_year.size().getInfo() > 0:\n",
        "            mosaicoT1 = imgColT1_year.qualityMosaic('NDVI').select('NDVI')\n",
        "            mosaicoT2 = imgColT2_year.qualityMosaic('NDVI').select('NDVI')\n",
        "\n",
        "            mosaicoT1_com_outline = add_outline_to_mosaic(mosaicoT1)\n",
        "            mosaicoT2_com_outline = add_outline_to_mosaic(mosaicoT2)\n",
        "\n",
        "            fig, axs = plt.subplots(1, 2, figsize=(12, 6))\n",
        "\n",
        "            for mosaic, ax, title in [(mosaicoT1_com_outline, axs[0], f'NDVI T1 - {year}'),\n",
        "                                       (mosaicoT2_com_outline, axs[1], f'NDVI T2 - {year}')]:\n",
        "                img_thumbnail = mosaic.getThumbUrl(params={\n",
        "                    'min': 0,\n",
        "                    'max': 1,\n",
        "                    'palette': ndvi_palette,\n",
        "                    'region': south_america_aoi,\n",
        "                    'dimensions': '1000',\n",
        "                    'format': 'png'\n",
        "                })\n",
        "\n",
        "                with urllib.request.urlopen(img_thumbnail) as response:\n",
        "                    img = Image.open(response)\n",
        "                    img_array = np.array(img)\n",
        "\n",
        "                ax.imshow(img_array)\n",
        "                ax.set_title(title, fontsize=16)\n",
        "                ax.axis('off')\n",
        "\n",
        "            for feature in wrs2_AOI.getInfo()['features']:\n",
        "                properties = feature['properties']\n",
        "                wrspr = properties.get('WRSPR', 'N/A')\n",
        "\n",
        "                geometry = ee.Geometry(feature['geometry'])\n",
        "                centroid = geometry.centroid().getInfo()['coordinates']\n",
        "\n",
        "                x_coord = centroid[0]\n",
        "                y_coord = centroid[1]\n",
        "\n",
        "                bounds = AOI.geometry().bounds().getInfo()['coordinates'][0]\n",
        "                min_x = min(coord[0] for coord in bounds)\n",
        "                max_x = max(coord[0] for coord in bounds)\n",
        "                min_y = min(coord[1] for coord in bounds)\n",
        "                max_y = max(coord[1] for coord in bounds)\n",
        "\n",
        "                img_width = img_array.shape[1]\n",
        "                img_height = img_array.shape[0]\n",
        "\n",
        "                x_img = int((x_coord - min_x) / (max_x - min_x) * img_width)\n",
        "                y_img = int(img_height - (y_coord - min_y) / (max_y - min_y) * img_height)\n",
        "\n",
        "                axs[0].text(x_img, y_img, f'{wrspr}', fontsize=7, color='red', ha='center', va='center',\n",
        "                            bbox=dict(facecolor='white', alpha=0), rotation=15)\n",
        "\n",
        "                axs[1].text(x_img, y_img, f'{wrspr}', fontsize=7, color='red', ha='center', va='center',\n",
        "                            bbox=dict(facecolor='white', alpha=0), rotation=15)\n",
        "\n",
        "            pdf.savefig(fig)\n",
        "            plt.close()\n",
        "        else:\n",
        "            print(f'Nenhuma imagem disponível para o ano {year}.')\n",
        "\n",
        "print(f'PDF criado com sucesso: {pdf_filename}')\n"
      ]
    },
    {
      "cell_type": "code",
      "source": [
        "\n",
        "ee.Initialize()\n",
        "\n",
        "AOI = ee.FeatureCollection('users/bagnato/MBP/MB_Patagonia_Contorno')\n",
        "\n",
        "def addNDVI(image):\n",
        "    ndvi = image.normalizedDifference(['B4', 'B3']).rename('NDVI')\n",
        "    return image.addBands(ndvi)\n",
        "\n",
        "imgColT1 = ee.ImageCollection('LANDSAT/LT05/C02/T1').filterBounds(AOI).map(addNDVI)\n",
        "imgColT2 = ee.ImageCollection('LANDSAT/LT05/C02/T2').filterBounds(AOI).map(addNDVI)\n",
        "\n",
        "ndvi_palette = [\n",
        "    'FFFFFF', 'CE7E45', 'DF923D', 'F1B555', 'FCD163', '99B718',\n",
        "    '74A901', '66A000', '529400', '3E8601', '207401', '056201',\n",
        "    '004C00', '023B01', '012E01', '011D01', '011301'\n",
        "]\n",
        "\n",
        "\n",
        "pdf_filename = 'Argentina_NDVI_1985_1997.pdf'\n",
        "\n",
        "\n",
        "with PdfPages(pdf_filename) as pdf:\n",
        "    for year in range(1985, 1998):\n",
        "        start_date = f'{year}-01-01'\n",
        "        end_date = f'{year}-12-31'\n",
        "\n",
        "        imgColT1_year = imgColT1.filterDate(start_date, end_date)\n",
        "        imgColT2_year = imgColT2.filterDate(start_date, end_date)\n",
        "\n",
        "        if imgColT1_year.size().getInfo() > 0 and imgColT2_year.size().getInfo() > 0:\n",
        "            mosaicoT1 = imgColT1_year.qualityMosaic('NDVI').select('NDVI')\n",
        "            mosaicoT2 = imgColT2_year.qualityMosaic('NDVI').select('NDVI')\n",
        "\n",
        "\n",
        "\n",
        "            fig, axs = plt.subplots(1, 2, figsize=(12, 6))\n",
        "            for mosaic, ax, title in [(mosaicoT1, axs[0], f'NDVI T1 - {year}'),\n",
        "                                       (mosaicoT2, axs[1], f'NDVI T2 - {year}')]:\n",
        "                img_thumbnail = mosaic.getThumbUrl(params={\n",
        "                    'min': 0,\n",
        "                    'max': 1,\n",
        "                    'palette': ndvi_palette,\n",
        "                    'region': south_america_aoi,\n",
        "                    'dimensions': '1000',\n",
        "                    'format': 'png'\n",
        "                })\n",
        "\n",
        "                with urllib.request.urlopen(img_thumbnail) as response:\n",
        "                    img = Image.open(response)\n",
        "                    img_array = np.array(img)\n",
        "\n",
        "                ax.imshow(img_array)\n",
        "                ax.set_title(title, fontsize=16)\n",
        "                ax.axis('off')\n",
        "\n",
        "            pdf.savefig(fig)\n",
        "            plt.close()\n",
        "        else:\n",
        "            print(f'Nenhuma imagem disponível para o ano {year}.')\n",
        "\n",
        "print(f'PDF criado com sucesso: {pdf_filename}')\n"
      ],
      "metadata": {
        "colab": {
          "base_uri": "https://localhost:8080/",
          "height": 54
        },
        "id": "wafK9prklvXV",
        "outputId": "028703c2-5268-48f7-ebb7-f67e10446cb9"
      },
      "execution_count": null,
      "outputs": [
        {
          "output_type": "display_data",
          "data": {
            "text/plain": [
              "<IPython.core.display.HTML object>"
            ],
            "text/html": [
              "\n",
              "            <style>\n",
              "                .geemap-dark {\n",
              "                    --jp-widgets-color: white;\n",
              "                    --jp-widgets-label-color: white;\n",
              "                    --jp-ui-font-color1: white;\n",
              "                    --jp-layout-color2: #454545;\n",
              "                    background-color: #383838;\n",
              "                }\n",
              "\n",
              "                .geemap-dark .jupyter-button {\n",
              "                    --jp-layout-color3: #383838;\n",
              "                }\n",
              "\n",
              "                .geemap-colab {\n",
              "                    background-color: var(--colab-primary-surface-color, white);\n",
              "                }\n",
              "\n",
              "                .geemap-colab .jupyter-button {\n",
              "                    --jp-layout-color3: var(--colab-primary-surface-color, white);\n",
              "                }\n",
              "            </style>\n",
              "            "
            ]
          },
          "metadata": {}
        },
        {
          "output_type": "stream",
          "name": "stdout",
          "text": [
            "Nenhuma imagem disponível para o ano 1991.\n",
            "PDF criado com sucesso: Argentina_NDVI_1985_1997.pdf\n"
          ]
        }
      ]
    }
  ]
}