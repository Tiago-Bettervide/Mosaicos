{
  "nbformat": 4,
  "nbformat_minor": 0,
  "metadata": {
    "colab": {
      "provenance": []
    },
    "kernelspec": {
      "name": "python3",
      "display_name": "Python 3"
    },
    "language_info": {
      "name": "python"
    }
  },
  "cells": [
    {
      "cell_type": "code",
      "source": [
        "import ee\n",
        "import geemap\n",
        "import matplotlib.pyplot as plt\n",
        "from matplotlib.backends.backend_pdf import PdfPages\n",
        "import urllib\n",
        "from PIL import Image\n",
        "import numpy as np\n",
        "from google.colab import drive\n",
        "import geopandas as gpd"
      ],
      "metadata": {
        "id": "hyuFUjDccjnR"
      },
      "execution_count": null,
      "outputs": []
    },
    {
      "cell_type": "code",
      "source": [
        "ee.Authenticate()\n",
        "ee.Initialize(project='ee-tiagobettervide')"
      ],
      "metadata": {
        "colab": {
          "base_uri": "https://localhost:8080/",
          "height": 17
        },
        "id": "4qaLyvEucvtJ",
        "outputId": "5dcd8365-2122-4670-d71c-4c37d754d398"
      },
      "execution_count": null,
      "outputs": [
        {
          "output_type": "display_data",
          "data": {
            "text/plain": [
              "<IPython.core.display.HTML object>"
            ],
            "text/html": [
              "\n",
              "            <style>\n",
              "                .geemap-dark {\n",
              "                    --jp-widgets-color: white;\n",
              "                    --jp-widgets-label-color: white;\n",
              "                    --jp-ui-font-color1: white;\n",
              "                    --jp-layout-color2: #454545;\n",
              "                    background-color: #383838;\n",
              "                }\n",
              "\n",
              "                .geemap-dark .jupyter-button {\n",
              "                    --jp-layout-color3: #383838;\n",
              "                }\n",
              "\n",
              "                .geemap-colab {\n",
              "                    background-color: var(--colab-primary-surface-color, white);\n",
              "                }\n",
              "\n",
              "                .geemap-colab .jupyter-button {\n",
              "                    --jp-layout-color3: var(--colab-primary-surface-color, white);\n",
              "                }\n",
              "            </style>\n",
              "            "
            ]
          },
          "metadata": {}
        }
      ]
    },
    {
      "cell_type": "code",
      "execution_count": null,
      "metadata": {
        "colab": {
          "base_uri": "https://localhost:8080/",
          "height": 54
        },
        "id": "2XEi4OZDcbUW",
        "outputId": "785cc889-bc44-4a20-d9cb-05eb9cd8e522"
      },
      "outputs": [
        {
          "output_type": "display_data",
          "data": {
            "text/plain": [
              "<IPython.core.display.HTML object>"
            ],
            "text/html": [
              "\n",
              "            <style>\n",
              "                .geemap-dark {\n",
              "                    --jp-widgets-color: white;\n",
              "                    --jp-widgets-label-color: white;\n",
              "                    --jp-ui-font-color1: white;\n",
              "                    --jp-layout-color2: #454545;\n",
              "                    background-color: #383838;\n",
              "                }\n",
              "\n",
              "                .geemap-dark .jupyter-button {\n",
              "                    --jp-layout-color3: #383838;\n",
              "                }\n",
              "\n",
              "                .geemap-colab {\n",
              "                    background-color: var(--colab-primary-surface-color, white);\n",
              "                }\n",
              "\n",
              "                .geemap-colab .jupyter-button {\n",
              "                    --jp-layout-color3: var(--colab-primary-surface-color, white);\n",
              "                }\n",
              "            </style>\n",
              "            "
            ]
          },
          "metadata": {}
        },
        {
          "output_type": "stream",
          "name": "stderr",
          "text": [
            "WARNING:googleapiclient.http:Sleeping 1.80 seconds before retry 1 of 5 for request: POST https://earthengine.googleapis.com/v1/projects/ee-tiagobettervide/value:compute?prettyPrint=false&alt=json, after 502\n"
          ]
        },
        {
          "output_type": "stream",
          "name": "stdout",
          "text": [
            "PDF criado com sucesso: Chile_NDVI_PATH_ROW_1985_1997.pdf\n"
          ]
        }
      ],
      "source": [
        "countries = ee.FeatureCollection(\"USDOS/LSIB_SIMPLE/2017\")\n",
        "AOI = countries.filter(ee.Filter.eq('country_na', 'Chile'))\n",
        "\n",
        "wrs2_descending = ee.FeatureCollection('projects/ee-elf-cloud/assets/WRS2_descending_0')\n",
        "\n",
        "wrs2_AOI = wrs2_descending.filterBounds(AOI)\n",
        "\n",
        "def addNDVI(image):\n",
        "    ndvi = image.normalizedDifference(['B4', 'B3']).rename('NDVI')\n",
        "    return image.addBands(ndvi)\n",
        "\n",
        "\n",
        "imgColT1 = ee.ImageCollection('LANDSAT/LT05/C02/T1').filterBounds(AOI).map(addNDVI)\n",
        "imgColT2 = ee.ImageCollection('LANDSAT/LT05/C02/T2').filterBounds(AOI).map(addNDVI)\n",
        "\n",
        "\n",
        "ndvi_palette = [\n",
        "    'FFFFFF', 'CE7E45', 'DF923D', 'F1B555', 'FCD163', '99B718',\n",
        "    '74A901', '66A000', '529400', '3E8601', '207401', '056201',\n",
        "    '004C00', '023B01', '012E01', '011D01', '011301'\n",
        "]\n",
        "\n",
        "\n",
        "pdf_filename = 'Chile_NDVI_PATH_ROW_1985_1997.pdf'\n",
        "\n",
        "south_america_aoi = AOI.geometry().bounds().getInfo()['coordinates']\n",
        "\n",
        "empty = ee.Image().byte()\n",
        "outline = empty.paint(featureCollection=wrs2_AOI, color=1, width=2)\n",
        "\n",
        "\n",
        "def add_outline_to_mosaic(mosaic):\n",
        "    return mosaic.blend(outline)\n",
        "\n",
        "\n",
        "with PdfPages(pdf_filename) as pdf:\n",
        "    for year in range(1985, 1998):\n",
        "        start_date = f'{year}-01-01'\n",
        "        end_date = f'{year}-12-31'\n",
        "\n",
        "\n",
        "        imgColT1_year = imgColT1.filterDate(start_date, end_date)\n",
        "        imgColT2_year = imgColT2.filterDate(start_date, end_date)\n",
        "\n",
        "\n",
        "        if imgColT1_year.size().getInfo() > 0 and imgColT2_year.size().getInfo() > 0:\n",
        "\n",
        "            mosaicoT1 = imgColT1_year.qualityMosaic('NDVI').select('NDVI')\n",
        "            mosaicoT2 = imgColT2_year.qualityMosaic('NDVI').select('NDVI')\n",
        "\n",
        "\n",
        "            mosaicoT1_com_outline = add_outline_to_mosaic(mosaicoT1)\n",
        "            mosaicoT2_com_outline = add_outline_to_mosaic(mosaicoT2)\n",
        "\n",
        "            # Cria a figura com dois subplots\n",
        "            fig, axs = plt.subplots(1, 2, figsize=(24, 6))\n",
        "\n",
        "            # Itera sobre os mosaicos e gráficos\n",
        "            for mosaic, ax, title in [(mosaicoT1_com_outline, axs[0], f'NDVI T1 - {year}'),\n",
        "                                       (mosaicoT2_com_outline, axs[1], f'NDVI T2 - {year}')]:\n",
        "                # Gera a miniatura da imagem\n",
        "                img_thumbnail = mosaic.getThumbUrl(params={\n",
        "                    'min': 0,\n",
        "                    'max': 1,\n",
        "                    'palette': ndvi_palette,\n",
        "                    'region': south_america_aoi,\n",
        "                    'dimensions': '1000',\n",
        "                    'format': 'png'\n",
        "                })\n",
        "\n",
        "\n",
        "                with urllib.request.urlopen(img_thumbnail) as response:\n",
        "                    img = Image.open(response)\n",
        "                    img_array = np.array(img)\n",
        "\n",
        "\n",
        "                ax.imshow(img_array, aspect='auto')\n",
        "                ax.set_title(title, fontsize=16)\n",
        "                ax.axis('off')\n",
        "\n",
        "\n",
        "            for feature in wrs2_AOI.getInfo()['features']:\n",
        "                properties = feature['properties']\n",
        "                wrspr = properties.get('WRSPR', 'N/A')\n",
        "\n",
        "                geometry = ee.Geometry(feature['geometry'])\n",
        "                centroid = geometry.centroid().getInfo()['coordinates']\n",
        "\n",
        "                x_coord = centroid[0]\n",
        "                y_coord = centroid[1]\n",
        "\n",
        "                bounds = AOI.geometry().bounds().getInfo()['coordinates'][0]\n",
        "                min_x = min(coord[0] for coord in bounds)\n",
        "                max_x = max(coord[0] for coord in bounds)\n",
        "                min_y = min(coord[1] for coord in bounds)\n",
        "                max_y = max(coord[1] for coord in bounds)\n",
        "\n",
        "\n",
        "                img_width = img_array.shape[1]\n",
        "                img_height = img_array.shape[0]\n",
        "\n",
        "                x_img = int((x_coord - min_x) / (max_x - min_x) * img_width)\n",
        "                y_img = int(img_height - (y_coord - min_y) / (max_y - min_y) * img_height)\n",
        "\n",
        "\n",
        "                axs[0].text(x_img, y_img, f'{wrspr}', fontsize=5, color='red', ha='center', va='center',\n",
        "                            bbox=dict(facecolor='white', alpha=0), rotation=15)\n",
        "\n",
        "                axs[1].text(x_img, y_img, f'{wrspr}', fontsize=5, color='red', ha='center', va='center',\n",
        "                            bbox=dict(facecolor='white', alpha=0), rotation=15)\n",
        "\n",
        "\n",
        "            pdf.savefig(fig)\n",
        "            plt.close()\n",
        "        else:\n",
        "            print(f'Nenhuma imagem disponível para o ano {year}.')\n",
        "\n",
        "print(f'PDF criado com sucesso: {pdf_filename}')\n"
      ]
    },
    {
      "cell_type": "code",
      "source": [
        "countries = ee.FeatureCollection(\"USDOS/LSIB_SIMPLE/2017\")\n",
        "AOI = countries.filter(ee.Filter.eq('country_na', 'Chile'))\n",
        "\n",
        "wrs2_descending = ee.FeatureCollection('projects/ee-elf-cloud/assets/WRS2_descending_0')\n",
        "\n",
        "south_america_aoi = AOI.geometry().bounds().getInfo()['coordinates']\n",
        "\n",
        "def addNDVI(image):\n",
        "    ndvi = image.normalizedDifference(['B4', 'B3']).rename('NDVI')\n",
        "    return image.addBands(ndvi)\n",
        "\n",
        "imgColT1 = ee.ImageCollection('LANDSAT/LT05/C02/T1').filterBounds(AOI).map(addNDVI)\n",
        "imgColT2 = ee.ImageCollection('LANDSAT/LT05/C02/T2').filterBounds(AOI).map(addNDVI)\n",
        "\n",
        "\n",
        "ndvi_palette = [\n",
        "    'FFFFFF', 'CE7E45', 'DF923D', 'F1B555', 'FCD163', '99B718',\n",
        "    '74A901', '66A000', '529400', '3E8601', '207401', '056201',\n",
        "    '004C00', '023B01', '012E01', '011D01', '011301'\n",
        "]\n",
        "\n",
        "\n",
        "pdf_filename = 'Chile_NDVI_1985_1998'\n",
        "\n",
        "\n",
        "with PdfPages(pdf_filename) as pdf:\n",
        "    for year in range(1985, 1998):\n",
        "        start_date = f'{year}-01-01'\n",
        "        end_date = f'{year}-12-31'\n",
        "\n",
        "        imgColT1_year = imgColT1.filterDate(start_date, end_date)\n",
        "        imgColT2_year = imgColT2.filterDate(start_date, end_date)\n",
        "\n",
        "\n",
        "        if imgColT1_year.size().getInfo() > 0 and imgColT2_year.size().getInfo() > 0:\n",
        "\n",
        "            mosaicoT1 = imgColT1_year.qualityMosaic('NDVI').select('NDVI')\n",
        "            mosaicoT2 = imgColT2_year.qualityMosaic('NDVI').select('NDVI')\n",
        "\n",
        "            fig, axs = plt.subplots(1, 2, figsize=(12, 6))\n",
        "\n",
        "\n",
        "            for mosaic, ax, title in [(mosaicoT1, axs[0], f'NDVI T1 - {year}'),\n",
        "                                       (mosaicoT2, axs[1], f'NDVI T2 - {year}')]:\n",
        "\n",
        "                img_thumbnail = mosaic.getThumbUrl(params={\n",
        "                    'min': 0,\n",
        "                    'max': 1,\n",
        "                    'palette': ndvi_palette,\n",
        "                    'region': south_america_aoi,\n",
        "                    'dimensions': '1000',\n",
        "                    'format': 'png'\n",
        "                })\n",
        "\n",
        "                with urllib.request.urlopen(img_thumbnail) as response:\n",
        "                    img = Image.open(response)\n",
        "                    img_array = np.array(img)\n",
        "\n",
        "\n",
        "                ax.imshow(img_array, aspect='auto')\n",
        "                ax.set_title(title, fontsize=16)\n",
        "                ax.axis('off')\n",
        "\n",
        "\n",
        "\n",
        "\n",
        "            pdf.savefig(fig)\n",
        "            plt.close()\n",
        "        else:\n",
        "            print(f'Nenhuma imagem disponível para o ano {year}.')\n",
        "\n",
        "print(f'PDF criado com sucesso: {pdf_filename}')\n"
      ],
      "metadata": {
        "colab": {
          "base_uri": "https://localhost:8080/",
          "height": 35
        },
        "id": "LktGZzJFmd50",
        "outputId": "c9aa19f3-354a-41c8-9f5c-7812fcd3aeae"
      },
      "execution_count": null,
      "outputs": [
        {
          "output_type": "display_data",
          "data": {
            "text/plain": [
              "<IPython.core.display.HTML object>"
            ],
            "text/html": [
              "\n",
              "            <style>\n",
              "                .geemap-dark {\n",
              "                    --jp-widgets-color: white;\n",
              "                    --jp-widgets-label-color: white;\n",
              "                    --jp-ui-font-color1: white;\n",
              "                    --jp-layout-color2: #454545;\n",
              "                    background-color: #383838;\n",
              "                }\n",
              "\n",
              "                .geemap-dark .jupyter-button {\n",
              "                    --jp-layout-color3: #383838;\n",
              "                }\n",
              "\n",
              "                .geemap-colab {\n",
              "                    background-color: var(--colab-primary-surface-color, white);\n",
              "                }\n",
              "\n",
              "                .geemap-colab .jupyter-button {\n",
              "                    --jp-layout-color3: var(--colab-primary-surface-color, white);\n",
              "                }\n",
              "            </style>\n",
              "            "
            ]
          },
          "metadata": {}
        },
        {
          "output_type": "stream",
          "name": "stdout",
          "text": [
            "PDF criado com sucesso: Chile_NDVI_1985_1998\n"
          ]
        }
      ]
    }
  ]
}